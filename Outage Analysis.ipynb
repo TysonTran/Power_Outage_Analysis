{
 "cells": [
  {
   "cell_type": "markdown",
   "metadata": {},
   "source": [
    "Data Set Taken From https://engineering.purdue.edu/LASCI/research-data/outages/outagerisks"
   ]
  },
  {
   "cell_type": "markdown",
   "metadata": {},
   "source": [
    "# Summary of Findings"
   ]
  },
  {
   "cell_type": "markdown",
   "metadata": {},
   "source": [
    "### Where do Major Power Outages Tend to Occur\n",
    "- California has the most Major Power outages with Texas and Michigan following\n",
    "- RFC and WECC almost have double the number of major power outages as compared to any other region\n",
    "\n",
    "### Where do Major Power Outages take the longest to get back up and running?\n",
    "- ECAR region tend to have longer major outages compared to any of the other regions\n",
    "\n",
    "### When do Major Power Outages Tend to Occur?\n",
    "- Major power outages tend to occur in the summer months of June, July, and August\n",
    "- Major power outages have incresingly become more common compared to the early 2000s\n",
    "\n",
    "### ML Model\n",
    "- Looking to predict if a major power outage will occur\n",
    "- Features Used: Month, Postal Code, Climate Catgory, Anomaly Level, Total_Price\n",
    "- Used a decision tree classifier\n",
    "- Improved Model by .037 using Grid Search\n",
    "- Received a accuracy score of .81 "
   ]
  },
  {
   "cell_type": "code",
   "execution_count": 42,
   "metadata": {},
   "outputs": [],
   "source": [
    "import matplotlib.pyplot as plt\n",
    "import numpy as np\n",
    "import os\n",
    "import pandas as pd\n",
    "import seaborn as sns\n",
    "%matplotlib inline\n",
    "%config InlineBackend.figure_format = 'retina'  # Higher resolution figures"
   ]
  },
  {
   "cell_type": "code",
   "execution_count": 53,
   "metadata": {},
   "outputs": [],
   "source": [
    "#Read in the data with certain columns\n",
    "cols = ['YEAR', 'MONTH', 'POSTAL.CODE', 'NERC.REGION', 'OUTAGE.START.DATE', \n",
    "        'OUTAGE.START.TIME', 'OUTAGE.RESTORATION.DATE', 'OUTAGE.RESTORATION.TIME',\n",
    "       'OUTAGE.DURATION', 'DEMAND.LOSS.MW', 'CUSTOMERS.AFFECTED', 'CAUSE.CATEGORY', \n",
    "        'CLIMATE.CATEGORY', 'ANOMALY.LEVEL', 'TOTAL.PRICE']\n",
    "outages = pd.read_excel('outage.xlsx', skiprows = 5, usecols = cols).drop(index=0).reset_index(\n",
    "    drop = True)"
   ]
  },
  {
   "cell_type": "markdown",
   "metadata": {},
   "source": [
    "# Question: Where and when do major power outages tend to occur?"
   ]
  },
  {
   "cell_type": "markdown",
   "metadata": {},
   "source": [
    "### Cleaning and EDA"
   ]
  },
  {
   "cell_type": "code",
   "execution_count": 54,
   "metadata": {},
   "outputs": [
    {
     "data": {
      "text/plain": [
       "YEAR                       0.000000\n",
       "MONTH                      0.005867\n",
       "POSTAL.CODE                0.000000\n",
       "NERC.REGION                0.000000\n",
       "ANOMALY.LEVEL              0.005867\n",
       "CLIMATE.CATEGORY           0.005867\n",
       "OUTAGE.START.DATE          0.005867\n",
       "OUTAGE.START.TIME          0.005867\n",
       "OUTAGE.RESTORATION.DATE    0.037810\n",
       "OUTAGE.RESTORATION.TIME    0.037810\n",
       "CAUSE.CATEGORY             0.000000\n",
       "OUTAGE.DURATION            0.037810\n",
       "DEMAND.LOSS.MW             0.459583\n",
       "CUSTOMERS.AFFECTED         0.288787\n",
       "TOTAL.PRICE                0.014342\n",
       "dtype: float64"
      ]
     },
     "execution_count": 54,
     "metadata": {},
     "output_type": "execute_result"
    }
   ],
   "source": [
    "#Looking at the missingness of each column to clean\n",
    "prop_missing = outages.isna().sum()/len(outages)\n",
    "prop_missing"
   ]
  },
  {
   "cell_type": "markdown",
   "metadata": {},
   "source": [
    "#### Filling in NaN Values"
   ]
  },
  {
   "cell_type": "code",
   "execution_count": 55,
   "metadata": {},
   "outputs": [],
   "source": [
    "#Does data imputation by sampling from the distribution\n",
    "def replace_w_sample(df, column_name):\n",
    "    nan_affected = df[column_name].isna().sum()\n",
    "    replacement_values = pd.Series(df[column_name].dropna().sample(nan_affected))\n",
    "    replacement_values.index = df.loc[df[column_name].isnull()].index\n",
    "    filled = df.fillna({column_name:replacement_values.to_dict()})\n",
    "    return filled"
   ]
  },
  {
   "cell_type": "markdown",
   "metadata": {},
   "source": [
    "Imputes the nan values for CUSTOMERS.AFFECTED, OUTAGE.DURATION, DEMAND.LOSS.MW by sampling from each column and filling in the nan values"
   ]
  },
  {
   "cell_type": "code",
   "execution_count": 56,
   "metadata": {},
   "outputs": [],
   "source": [
    "outages_filled = replace_w_sample(outages, 'CUSTOMERS.AFFECTED')\n",
    "outages_duration = replace_w_sample(outages_filled, 'OUTAGE.DURATION')\n",
    "outages_and_loss_filled = replace_w_sample(outages_duration, 'DEMAND.LOSS.MW')"
   ]
  },
  {
   "cell_type": "markdown",
   "metadata": {},
   "source": [
    "#### Defining Major Outage or Not"
   ]
  },
  {
   "cell_type": "code",
   "execution_count": 57,
   "metadata": {},
   "outputs": [],
   "source": [
    "df_outages = outages_and_loss_filled.copy()\n",
    "#Adding a column that defines a row as a Major outage or not\n",
    "#Major Outage defined as impacted at least 50,000 customers and unplanned load loss of at least 300MW\n",
    "df_outages['Major'] = df_outages.apply(lambda x: True if x['CUSTOMERS.AFFECTED'] >=50_000\n",
    "                                      or x['DEMAND.LOSS.MW'] >= 300 else False, axis=1)"
   ]
  },
  {
   "cell_type": "markdown",
   "metadata": {},
   "source": [
    "#### Combining Date and Time"
   ]
  },
  {
   "cell_type": "code",
   "execution_count": 58,
   "metadata": {},
   "outputs": [],
   "source": [
    "#Change to timestamp\n",
    "df_outages['OUTAGE.START.DATE'] = pd.to_datetime(df_outages['OUTAGE.START.DATE'])\n",
    "df_outages['OUTAGE.START.TIME'] = df_outages['OUTAGE.START.TIME'].apply(lambda x: pd.Timestamp(str(x)))\n",
    "df_outages['OUTAGE.RESTORATION.DATE'] = pd.to_datetime(df_outages['OUTAGE.RESTORATION.DATE'])\n",
    "df_outages['OUTAGE.RESTORATION.TIME'] = df_outages['OUTAGE.RESTORATION.TIME'].apply(\n",
    "    lambda x: pd.Timestamp(str(x)))\n",
    "#Combine the two columns\n",
    "df_outages['Outage Start'] = df_outages.apply(lambda x: x['OUTAGE.START.DATE']\n",
    "                                              .replace(hour = x['OUTAGE.START.TIME'].hour, \n",
    "                                                       minute = x['OUTAGE.START.TIME'].minute,\n",
    "                                                      second = x['OUTAGE.START.TIME'].second), axis=1)\n",
    "df_outages['Restoration'] = df_outages.apply(lambda x: x['OUTAGE.RESTORATION.DATE']\n",
    "                                              .replace(hour = x['OUTAGE.RESTORATION.TIME'].hour, \n",
    "                                                       minute = x['OUTAGE.RESTORATION.TIME'].minute,\n",
    "                                                      second = x['OUTAGE.RESTORATION.TIME'].second), \n",
    "                                             axis=1)\n",
    "#Dropping the unneeded columns because we combined them\n",
    "df_outages = df_outages.drop(['OUTAGE.START.DATE', 'OUTAGE.START.TIME', 'OUTAGE.RESTORATION.DATE', \n",
    "                              'OUTAGE.RESTORATION.TIME'], axis=1)"
   ]
  },
  {
   "cell_type": "markdown",
   "metadata": {},
   "source": [
    "#### Getting Only Major Outages"
   ]
  },
  {
   "cell_type": "code",
   "execution_count": 59,
   "metadata": {},
   "outputs": [],
   "source": [
    "#Filtering the table to only keep major outages\n",
    "major = df_outages.loc[df_outages['Major']==True]\n"
   ]
  },
  {
   "cell_type": "markdown",
   "metadata": {},
   "source": [
    "#### Univariate Analysis"
   ]
  },
  {
   "cell_type": "markdown",
   "metadata": {},
   "source": [
    "The ouput of this cell is looking at the average duration and demand loss for each NERC region. This relates to my question because we are looking at the location of the major outage and giving us a better idea of when a power outage would tend to occur by looking at the peak demand lost and how that demand is related to the duration of the outage."
   ]
  },
  {
   "cell_type": "code",
   "execution_count": 60,
   "metadata": {},
   "outputs": [
    {
     "data": {
      "text/html": [
       "<div>\n",
       "<style scoped>\n",
       "    .dataframe tbody tr th:only-of-type {\n",
       "        vertical-align: middle;\n",
       "    }\n",
       "\n",
       "    .dataframe tbody tr th {\n",
       "        vertical-align: top;\n",
       "    }\n",
       "\n",
       "    .dataframe thead tr th {\n",
       "        text-align: left;\n",
       "    }\n",
       "\n",
       "    .dataframe thead tr:last-of-type th {\n",
       "        text-align: right;\n",
       "    }\n",
       "</style>\n",
       "<table border=\"1\" class=\"dataframe\">\n",
       "  <thead>\n",
       "    <tr>\n",
       "      <th></th>\n",
       "      <th colspan=\"2\" halign=\"left\">OUTAGE.DURATION</th>\n",
       "      <th colspan=\"2\" halign=\"left\">DEMAND.LOSS.MW</th>\n",
       "    </tr>\n",
       "    <tr>\n",
       "      <th></th>\n",
       "      <th>mean</th>\n",
       "      <th>median</th>\n",
       "      <th>mean</th>\n",
       "      <th>median</th>\n",
       "    </tr>\n",
       "    <tr>\n",
       "      <th>NERC.REGION</th>\n",
       "      <th></th>\n",
       "      <th></th>\n",
       "      <th></th>\n",
       "      <th></th>\n",
       "    </tr>\n",
       "  </thead>\n",
       "  <tbody>\n",
       "    <tr>\n",
       "      <th>ECAR</th>\n",
       "      <td>5601.696970</td>\n",
       "      <td>5700.0</td>\n",
       "      <td>1241.060606</td>\n",
       "      <td>303.0</td>\n",
       "    </tr>\n",
       "    <tr>\n",
       "      <th>FRCC</th>\n",
       "      <td>4300.956522</td>\n",
       "      <td>1080.0</td>\n",
       "      <td>1395.695652</td>\n",
       "      <td>424.0</td>\n",
       "    </tr>\n",
       "    <tr>\n",
       "      <th>FRCC, SERC</th>\n",
       "      <td>372.000000</td>\n",
       "      <td>372.0</td>\n",
       "      <td>900.000000</td>\n",
       "      <td>900.0</td>\n",
       "    </tr>\n",
       "    <tr>\n",
       "      <th>HECO</th>\n",
       "      <td>1224.500000</td>\n",
       "      <td>1224.5</td>\n",
       "      <td>640.000000</td>\n",
       "      <td>640.0</td>\n",
       "    </tr>\n",
       "    <tr>\n",
       "      <th>HI</th>\n",
       "      <td>1367.000000</td>\n",
       "      <td>1367.0</td>\n",
       "      <td>1060.000000</td>\n",
       "      <td>1060.0</td>\n",
       "    </tr>\n",
       "    <tr>\n",
       "      <th>MRO</th>\n",
       "      <td>3255.000000</td>\n",
       "      <td>1454.5</td>\n",
       "      <td>576.470588</td>\n",
       "      <td>336.5</td>\n",
       "    </tr>\n",
       "    <tr>\n",
       "      <th>NPCC</th>\n",
       "      <td>4469.841584</td>\n",
       "      <td>2108.0</td>\n",
       "      <td>933.663366</td>\n",
       "      <td>220.0</td>\n",
       "    </tr>\n",
       "    <tr>\n",
       "      <th>PR</th>\n",
       "      <td>174.000000</td>\n",
       "      <td>174.0</td>\n",
       "      <td>220.000000</td>\n",
       "      <td>220.0</td>\n",
       "    </tr>\n",
       "    <tr>\n",
       "      <th>RFC</th>\n",
       "      <td>3710.856269</td>\n",
       "      <td>2680.0</td>\n",
       "      <td>397.532110</td>\n",
       "      <td>240.0</td>\n",
       "    </tr>\n",
       "    <tr>\n",
       "      <th>SERC</th>\n",
       "      <td>2084.818750</td>\n",
       "      <td>972.5</td>\n",
       "      <td>743.881250</td>\n",
       "      <td>278.0</td>\n",
       "    </tr>\n",
       "    <tr>\n",
       "      <th>SPP</th>\n",
       "      <td>3692.240000</td>\n",
       "      <td>1296.0</td>\n",
       "      <td>909.520000</td>\n",
       "      <td>205.0</td>\n",
       "    </tr>\n",
       "    <tr>\n",
       "      <th>TRE</th>\n",
       "      <td>2963.808081</td>\n",
       "      <td>1110.0</td>\n",
       "      <td>669.393939</td>\n",
       "      <td>265.0</td>\n",
       "    </tr>\n",
       "    <tr>\n",
       "      <th>WECC</th>\n",
       "      <td>1654.398625</td>\n",
       "      <td>369.0</td>\n",
       "      <td>899.147766</td>\n",
       "      <td>280.0</td>\n",
       "    </tr>\n",
       "  </tbody>\n",
       "</table>\n",
       "</div>"
      ],
      "text/plain": [
       "            OUTAGE.DURATION         DEMAND.LOSS.MW        \n",
       "                       mean  median           mean  median\n",
       "NERC.REGION                                               \n",
       "ECAR            5601.696970  5700.0    1241.060606   303.0\n",
       "FRCC            4300.956522  1080.0    1395.695652   424.0\n",
       "FRCC, SERC       372.000000   372.0     900.000000   900.0\n",
       "HECO            1224.500000  1224.5     640.000000   640.0\n",
       "HI              1367.000000  1367.0    1060.000000  1060.0\n",
       "MRO             3255.000000  1454.5     576.470588   336.5\n",
       "NPCC            4469.841584  2108.0     933.663366   220.0\n",
       "PR               174.000000   174.0     220.000000   220.0\n",
       "RFC             3710.856269  2680.0     397.532110   240.0\n",
       "SERC            2084.818750   972.5     743.881250   278.0\n",
       "SPP             3692.240000  1296.0     909.520000   205.0\n",
       "TRE             2963.808081  1110.0     669.393939   265.0\n",
       "WECC            1654.398625   369.0     899.147766   280.0"
      ]
     },
     "execution_count": 60,
     "metadata": {},
     "output_type": "execute_result"
    }
   ],
   "source": [
    "agg_table = major.groupby('NERC.REGION')[['OUTAGE.DURATION', 'DEMAND.LOSS.MW']].agg(['mean','median'])\n",
    "agg_table"
   ]
  },
  {
   "cell_type": "code",
   "execution_count": 61,
   "metadata": {},
   "outputs": [
    {
     "data": {
      "image/png": "[encoded data removed]",
      "text/plain": [
       "<Figure size 432x288 with 1 Axes>"
      ]
     },
     "metadata": {
      "image/png": {
       "height": 326,
       "width": 381
      },
      "needs_background": "light"
     },
     "output_type": "display_data"
    }
   ],
   "source": [
    "agg_table.plot(kind = 'bar', title = \"Outage Duration and Demand Loss by NERC Region\")\n",
    "plt.show()"
   ]
  },
  {
   "cell_type": "markdown",
   "metadata": {},
   "source": [
    "Looking at the mean and median  of outage duration and demand loss for each nerc region, we can see that ECAR has long usually has long outages because the mean and median are similar to each other. The other regions usually has a large mean duration because a couple of bad outages but the median is not as bad."
   ]
  },
  {
   "cell_type": "code",
   "execution_count": 125,
   "metadata": {},
   "outputs": [
    {
     "data": {
      "image/png": "[encoded data removed]",
      "text/plain": [
       "<Figure size 432x288 with 1 Axes>"
      ]
     },
     "metadata": {
      "image/png": {
       "height": 263,
       "width": 388
      },
      "needs_background": "light"
     },
     "output_type": "display_data"
    }
   ],
   "source": [
    "major['YEAR'].plot(kind='hist', bins = 2016-2000+1, title=\"Major Power Outage per Year\")\n",
    "plt.show()"
   ]
  },
  {
   "cell_type": "markdown",
   "metadata": {},
   "source": [
    "From the histogram, we can see a left skew in the distribution where the outages are more common now than in the early 2000s. This is most likely due to the higher demand in electricity because of technological devices and also the electrical infastructure not improving."
   ]
  },
  {
   "cell_type": "code",
   "execution_count": 126,
   "metadata": {},
   "outputs": [
    {
     "data": {
      "image/png": "[encoded data removed]",
      "text/plain": [
       "<Figure size 432x288 with 1 Axes>"
      ]
     },
     "metadata": {
      "image/png": {
       "height": 263,
       "width": 388
      },
      "needs_background": "light"
     },
     "output_type": "display_data"
    }
   ],
   "source": [
    "major['MONTH'].plot(kind='hist', bins=12, title=\"Major Power Outages per Month\")\n",
    "plt.show()"
   ]
  },
  {
   "cell_type": "markdown",
   "metadata": {},
   "source": [
    "From the histogram, we can see that there is more outages in June, July, and August compared to any other month. This is most likely because the weather is hot during that period and also kids are home from school using more electricity,\n"
   ]
  },
  {
   "cell_type": "code",
   "execution_count": 64,
   "metadata": {},
   "outputs": [
    {
     "data": {
      "image/png": "[encoded data removed]",
      "text/plain": [
       "<Figure size 432x288 with 1 Axes>"
      ]
     },
     "metadata": {
      "image/png": {
       "height": 266,
       "width": 369
      },
      "needs_background": "light"
     },
     "output_type": "display_data"
    }
   ],
   "source": [
    "major['POSTAL.CODE'].value_counts().plot(kind='bar', fontsize=7, \n",
    "                                         title=\"Major Power Outage by Postal Code\")\n",
    "plt.show()"
   ]
  },
  {
   "cell_type": "markdown",
   "metadata": {},
   "source": [
    "In this graph, we can see that the state with the most major power outages is California with Texas and Michigan following. California most likely has the most major power outages because the state has a lot of people per square mile which means more electricity is used in an area and more cars on the roads that may crash into electrical boxes."
   ]
  },
  {
   "cell_type": "code",
   "execution_count": 127,
   "metadata": {},
   "outputs": [
    {
     "data": {
      "image/png": "[encoded data removed]",
      "text/plain": [
       "<Figure size 432x288 with 1 Axes>"
      ]
     },
     "metadata": {
      "image/png": {
       "height": 313,
       "width": 375
      },
      "needs_background": "light"
     },
     "output_type": "display_data"
    }
   ],
   "source": [
    "major['NERC.REGION'].value_counts().plot(kind='bar', title=\"Major Power Outage by NERC Region\")\n",
    "plt.show()"
   ]
  },
  {
   "cell_type": "markdown",
   "metadata": {},
   "source": [
    "This piece of code produces a plot that shows us which NERC regions tend to have more major power outages than others. The regions that account for major power outages is RFC and WECC which are both almost double the number of major power outages compared to the other regions"
   ]
  },
  {
   "cell_type": "markdown",
   "metadata": {},
   "source": [
    "#### Bivariate Analysis"
   ]
  },
  {
   "cell_type": "code",
   "execution_count": 128,
   "metadata": {},
   "outputs": [
    {
     "data": {
      "image/png": "[encoded data removed]",
      "text/plain": [
       "<Figure size 432x288 with 1 Axes>"
      ]
     },
     "metadata": {
      "image/png": {
       "height": 277,
       "width": 408
      },
      "needs_background": "light"
     },
     "output_type": "display_data"
    }
   ],
   "source": [
    "major.plot.scatter('OUTAGE.DURATION', 'DEMAND.LOSS.MW', title=\"Duration versus Demand Loss\")\n",
    "plt.show()"
   ]
  },
  {
   "cell_type": "markdown",
   "metadata": {},
   "source": [
    "In the scatter plot, we are looking for an association between outage duration and demand loss. We can see that smaller outage durations tend to have a higher demand loss.\n"
   ]
  },
  {
   "cell_type": "code",
   "execution_count": 67,
   "metadata": {},
   "outputs": [
    {
     "data": {
      "text/html": [
       "<div>\n",
       "<style scoped>\n",
       "    .dataframe tbody tr th:only-of-type {\n",
       "        vertical-align: middle;\n",
       "    }\n",
       "\n",
       "    .dataframe tbody tr th {\n",
       "        vertical-align: top;\n",
       "    }\n",
       "\n",
       "    .dataframe thead th {\n",
       "        text-align: right;\n",
       "    }\n",
       "</style>\n",
       "<table border=\"1\" class=\"dataframe\">\n",
       "  <thead>\n",
       "    <tr style=\"text-align: right;\">\n",
       "      <th>MONTH</th>\n",
       "      <th>1.0</th>\n",
       "      <th>2.0</th>\n",
       "      <th>3.0</th>\n",
       "      <th>4.0</th>\n",
       "      <th>5.0</th>\n",
       "      <th>6.0</th>\n",
       "      <th>7.0</th>\n",
       "      <th>8.0</th>\n",
       "      <th>9.0</th>\n",
       "      <th>10.0</th>\n",
       "      <th>11.0</th>\n",
       "      <th>12.0</th>\n",
       "    </tr>\n",
       "    <tr>\n",
       "      <th>POSTAL.CODE</th>\n",
       "      <th></th>\n",
       "      <th></th>\n",
       "      <th></th>\n",
       "      <th></th>\n",
       "      <th></th>\n",
       "      <th></th>\n",
       "      <th></th>\n",
       "      <th></th>\n",
       "      <th></th>\n",
       "      <th></th>\n",
       "      <th></th>\n",
       "      <th></th>\n",
       "    </tr>\n",
       "  </thead>\n",
       "  <tbody>\n",
       "    <tr>\n",
       "      <th>AL</th>\n",
       "      <td>0</td>\n",
       "      <td>0</td>\n",
       "      <td>0</td>\n",
       "      <td>0</td>\n",
       "      <td>0</td>\n",
       "      <td>1</td>\n",
       "      <td>1</td>\n",
       "      <td>1</td>\n",
       "      <td>0</td>\n",
       "      <td>0</td>\n",
       "      <td>0</td>\n",
       "      <td>1</td>\n",
       "    </tr>\n",
       "    <tr>\n",
       "      <th>AR</th>\n",
       "      <td>2</td>\n",
       "      <td>2</td>\n",
       "      <td>0</td>\n",
       "      <td>1</td>\n",
       "      <td>1</td>\n",
       "      <td>2</td>\n",
       "      <td>2</td>\n",
       "      <td>2</td>\n",
       "      <td>2</td>\n",
       "      <td>1</td>\n",
       "      <td>0</td>\n",
       "      <td>0</td>\n",
       "    </tr>\n",
       "    <tr>\n",
       "      <th>AZ</th>\n",
       "      <td>3</td>\n",
       "      <td>4</td>\n",
       "      <td>1</td>\n",
       "      <td>1</td>\n",
       "      <td>1</td>\n",
       "      <td>1</td>\n",
       "      <td>4</td>\n",
       "      <td>1</td>\n",
       "      <td>0</td>\n",
       "      <td>1</td>\n",
       "      <td>0</td>\n",
       "      <td>1</td>\n",
       "    </tr>\n",
       "    <tr>\n",
       "      <th>CA</th>\n",
       "      <td>11</td>\n",
       "      <td>18</td>\n",
       "      <td>13</td>\n",
       "      <td>8</td>\n",
       "      <td>16</td>\n",
       "      <td>10</td>\n",
       "      <td>17</td>\n",
       "      <td>8</td>\n",
       "      <td>7</td>\n",
       "      <td>15</td>\n",
       "      <td>8</td>\n",
       "      <td>17</td>\n",
       "    </tr>\n",
       "    <tr>\n",
       "      <th>CO</th>\n",
       "      <td>0</td>\n",
       "      <td>2</td>\n",
       "      <td>0</td>\n",
       "      <td>0</td>\n",
       "      <td>0</td>\n",
       "      <td>1</td>\n",
       "      <td>2</td>\n",
       "      <td>0</td>\n",
       "      <td>0</td>\n",
       "      <td>3</td>\n",
       "      <td>0</td>\n",
       "      <td>0</td>\n",
       "    </tr>\n",
       "    <tr>\n",
       "      <th>CT</th>\n",
       "      <td>1</td>\n",
       "      <td>0</td>\n",
       "      <td>2</td>\n",
       "      <td>1</td>\n",
       "      <td>2</td>\n",
       "      <td>1</td>\n",
       "      <td>1</td>\n",
       "      <td>1</td>\n",
       "      <td>1</td>\n",
       "      <td>1</td>\n",
       "      <td>2</td>\n",
       "      <td>0</td>\n",
       "    </tr>\n",
       "    <tr>\n",
       "      <th>DC</th>\n",
       "      <td>2</td>\n",
       "      <td>2</td>\n",
       "      <td>0</td>\n",
       "      <td>0</td>\n",
       "      <td>0</td>\n",
       "      <td>2</td>\n",
       "      <td>0</td>\n",
       "      <td>3</td>\n",
       "      <td>1</td>\n",
       "      <td>0</td>\n",
       "      <td>0</td>\n",
       "      <td>0</td>\n",
       "    </tr>\n",
       "    <tr>\n",
       "      <th>DE</th>\n",
       "      <td>0</td>\n",
       "      <td>0</td>\n",
       "      <td>1</td>\n",
       "      <td>2</td>\n",
       "      <td>3</td>\n",
       "      <td>3</td>\n",
       "      <td>1</td>\n",
       "      <td>2</td>\n",
       "      <td>0</td>\n",
       "      <td>0</td>\n",
       "      <td>3</td>\n",
       "      <td>0</td>\n",
       "    </tr>\n",
       "    <tr>\n",
       "      <th>FL</th>\n",
       "      <td>1</td>\n",
       "      <td>4</td>\n",
       "      <td>2</td>\n",
       "      <td>1</td>\n",
       "      <td>0</td>\n",
       "      <td>0</td>\n",
       "      <td>0</td>\n",
       "      <td>7</td>\n",
       "      <td>6</td>\n",
       "      <td>3</td>\n",
       "      <td>0</td>\n",
       "      <td>0</td>\n",
       "    </tr>\n",
       "    <tr>\n",
       "      <th>GA</th>\n",
       "      <td>1</td>\n",
       "      <td>3</td>\n",
       "      <td>0</td>\n",
       "      <td>1</td>\n",
       "      <td>2</td>\n",
       "      <td>3</td>\n",
       "      <td>0</td>\n",
       "      <td>0</td>\n",
       "      <td>2</td>\n",
       "      <td>0</td>\n",
       "      <td>2</td>\n",
       "      <td>1</td>\n",
       "    </tr>\n",
       "    <tr>\n",
       "      <th>HI</th>\n",
       "      <td>0</td>\n",
       "      <td>0</td>\n",
       "      <td>0</td>\n",
       "      <td>0</td>\n",
       "      <td>1</td>\n",
       "      <td>0</td>\n",
       "      <td>0</td>\n",
       "      <td>0</td>\n",
       "      <td>0</td>\n",
       "      <td>2</td>\n",
       "      <td>0</td>\n",
       "      <td>1</td>\n",
       "    </tr>\n",
       "    <tr>\n",
       "      <th>IA</th>\n",
       "      <td>1</td>\n",
       "      <td>2</td>\n",
       "      <td>0</td>\n",
       "      <td>0</td>\n",
       "      <td>0</td>\n",
       "      <td>0</td>\n",
       "      <td>0</td>\n",
       "      <td>0</td>\n",
       "      <td>0</td>\n",
       "      <td>0</td>\n",
       "      <td>0</td>\n",
       "      <td>0</td>\n",
       "    </tr>\n",
       "    <tr>\n",
       "      <th>ID</th>\n",
       "      <td>0</td>\n",
       "      <td>0</td>\n",
       "      <td>0</td>\n",
       "      <td>0</td>\n",
       "      <td>0</td>\n",
       "      <td>1</td>\n",
       "      <td>2</td>\n",
       "      <td>0</td>\n",
       "      <td>0</td>\n",
       "      <td>0</td>\n",
       "      <td>0</td>\n",
       "      <td>0</td>\n",
       "    </tr>\n",
       "    <tr>\n",
       "      <th>IL</th>\n",
       "      <td>1</td>\n",
       "      <td>1</td>\n",
       "      <td>1</td>\n",
       "      <td>1</td>\n",
       "      <td>3</td>\n",
       "      <td>12</td>\n",
       "      <td>11</td>\n",
       "      <td>8</td>\n",
       "      <td>0</td>\n",
       "      <td>3</td>\n",
       "      <td>2</td>\n",
       "      <td>1</td>\n",
       "    </tr>\n",
       "    <tr>\n",
       "      <th>IN</th>\n",
       "      <td>4</td>\n",
       "      <td>0</td>\n",
       "      <td>0</td>\n",
       "      <td>2</td>\n",
       "      <td>5</td>\n",
       "      <td>7</td>\n",
       "      <td>6</td>\n",
       "      <td>3</td>\n",
       "      <td>0</td>\n",
       "      <td>1</td>\n",
       "      <td>4</td>\n",
       "      <td>1</td>\n",
       "    </tr>\n",
       "    <tr>\n",
       "      <th>KS</th>\n",
       "      <td>1</td>\n",
       "      <td>0</td>\n",
       "      <td>1</td>\n",
       "      <td>1</td>\n",
       "      <td>0</td>\n",
       "      <td>2</td>\n",
       "      <td>0</td>\n",
       "      <td>0</td>\n",
       "      <td>0</td>\n",
       "      <td>0</td>\n",
       "      <td>0</td>\n",
       "      <td>1</td>\n",
       "    </tr>\n",
       "    <tr>\n",
       "      <th>KY</th>\n",
       "      <td>3</td>\n",
       "      <td>2</td>\n",
       "      <td>0</td>\n",
       "      <td>0</td>\n",
       "      <td>1</td>\n",
       "      <td>0</td>\n",
       "      <td>0</td>\n",
       "      <td>1</td>\n",
       "      <td>1</td>\n",
       "      <td>0</td>\n",
       "      <td>0</td>\n",
       "      <td>0</td>\n",
       "    </tr>\n",
       "    <tr>\n",
       "      <th>LA</th>\n",
       "      <td>1</td>\n",
       "      <td>0</td>\n",
       "      <td>0</td>\n",
       "      <td>2</td>\n",
       "      <td>3</td>\n",
       "      <td>5</td>\n",
       "      <td>5</td>\n",
       "      <td>10</td>\n",
       "      <td>5</td>\n",
       "      <td>2</td>\n",
       "      <td>0</td>\n",
       "      <td>0</td>\n",
       "    </tr>\n",
       "    <tr>\n",
       "      <th>MA</th>\n",
       "      <td>1</td>\n",
       "      <td>1</td>\n",
       "      <td>2</td>\n",
       "      <td>1</td>\n",
       "      <td>1</td>\n",
       "      <td>0</td>\n",
       "      <td>0</td>\n",
       "      <td>2</td>\n",
       "      <td>0</td>\n",
       "      <td>2</td>\n",
       "      <td>0</td>\n",
       "      <td>1</td>\n",
       "    </tr>\n",
       "    <tr>\n",
       "      <th>MD</th>\n",
       "      <td>5</td>\n",
       "      <td>6</td>\n",
       "      <td>2</td>\n",
       "      <td>2</td>\n",
       "      <td>0</td>\n",
       "      <td>9</td>\n",
       "      <td>5</td>\n",
       "      <td>4</td>\n",
       "      <td>2</td>\n",
       "      <td>2</td>\n",
       "      <td>2</td>\n",
       "      <td>1</td>\n",
       "    </tr>\n",
       "    <tr>\n",
       "      <th>ME</th>\n",
       "      <td>1</td>\n",
       "      <td>2</td>\n",
       "      <td>1</td>\n",
       "      <td>2</td>\n",
       "      <td>0</td>\n",
       "      <td>0</td>\n",
       "      <td>2</td>\n",
       "      <td>0</td>\n",
       "      <td>0</td>\n",
       "      <td>1</td>\n",
       "      <td>1</td>\n",
       "      <td>2</td>\n",
       "    </tr>\n",
       "    <tr>\n",
       "      <th>MI</th>\n",
       "      <td>3</td>\n",
       "      <td>3</td>\n",
       "      <td>5</td>\n",
       "      <td>8</td>\n",
       "      <td>6</td>\n",
       "      <td>13</td>\n",
       "      <td>16</td>\n",
       "      <td>9</td>\n",
       "      <td>7</td>\n",
       "      <td>5</td>\n",
       "      <td>7</td>\n",
       "      <td>9</td>\n",
       "    </tr>\n",
       "    <tr>\n",
       "      <th>MN</th>\n",
       "      <td>0</td>\n",
       "      <td>0</td>\n",
       "      <td>0</td>\n",
       "      <td>0</td>\n",
       "      <td>1</td>\n",
       "      <td>5</td>\n",
       "      <td>3</td>\n",
       "      <td>0</td>\n",
       "      <td>1</td>\n",
       "      <td>1</td>\n",
       "      <td>1</td>\n",
       "      <td>0</td>\n",
       "    </tr>\n",
       "    <tr>\n",
       "      <th>MO</th>\n",
       "      <td>3</td>\n",
       "      <td>1</td>\n",
       "      <td>0</td>\n",
       "      <td>1</td>\n",
       "      <td>3</td>\n",
       "      <td>0</td>\n",
       "      <td>0</td>\n",
       "      <td>2</td>\n",
       "      <td>0</td>\n",
       "      <td>0</td>\n",
       "      <td>0</td>\n",
       "      <td>2</td>\n",
       "    </tr>\n",
       "    <tr>\n",
       "      <th>MS</th>\n",
       "      <td>0</td>\n",
       "      <td>0</td>\n",
       "      <td>0</td>\n",
       "      <td>0</td>\n",
       "      <td>0</td>\n",
       "      <td>1</td>\n",
       "      <td>0</td>\n",
       "      <td>0</td>\n",
       "      <td>0</td>\n",
       "      <td>0</td>\n",
       "      <td>0</td>\n",
       "      <td>0</td>\n",
       "    </tr>\n",
       "    <tr>\n",
       "      <th>MT</th>\n",
       "      <td>0</td>\n",
       "      <td>0</td>\n",
       "      <td>1</td>\n",
       "      <td>0</td>\n",
       "      <td>0</td>\n",
       "      <td>2</td>\n",
       "      <td>0</td>\n",
       "      <td>0</td>\n",
       "      <td>0</td>\n",
       "      <td>0</td>\n",
       "      <td>0</td>\n",
       "      <td>0</td>\n",
       "    </tr>\n",
       "    <tr>\n",
       "      <th>NC</th>\n",
       "      <td>2</td>\n",
       "      <td>5</td>\n",
       "      <td>3</td>\n",
       "      <td>2</td>\n",
       "      <td>2</td>\n",
       "      <td>4</td>\n",
       "      <td>2</td>\n",
       "      <td>3</td>\n",
       "      <td>6</td>\n",
       "      <td>0</td>\n",
       "      <td>0</td>\n",
       "      <td>0</td>\n",
       "    </tr>\n",
       "    <tr>\n",
       "      <th>NE</th>\n",
       "      <td>0</td>\n",
       "      <td>0</td>\n",
       "      <td>0</td>\n",
       "      <td>0</td>\n",
       "      <td>0</td>\n",
       "      <td>2</td>\n",
       "      <td>0</td>\n",
       "      <td>1</td>\n",
       "      <td>0</td>\n",
       "      <td>0</td>\n",
       "      <td>0</td>\n",
       "      <td>1</td>\n",
       "    </tr>\n",
       "    <tr>\n",
       "      <th>NH</th>\n",
       "      <td>0</td>\n",
       "      <td>0</td>\n",
       "      <td>2</td>\n",
       "      <td>1</td>\n",
       "      <td>1</td>\n",
       "      <td>0</td>\n",
       "      <td>0</td>\n",
       "      <td>0</td>\n",
       "      <td>0</td>\n",
       "      <td>1</td>\n",
       "      <td>0</td>\n",
       "      <td>0</td>\n",
       "    </tr>\n",
       "    <tr>\n",
       "      <th>NJ</th>\n",
       "      <td>1</td>\n",
       "      <td>2</td>\n",
       "      <td>2</td>\n",
       "      <td>0</td>\n",
       "      <td>1</td>\n",
       "      <td>7</td>\n",
       "      <td>2</td>\n",
       "      <td>3</td>\n",
       "      <td>1</td>\n",
       "      <td>4</td>\n",
       "      <td>0</td>\n",
       "      <td>1</td>\n",
       "    </tr>\n",
       "    <tr>\n",
       "      <th>NM</th>\n",
       "      <td>0</td>\n",
       "      <td>2</td>\n",
       "      <td>1</td>\n",
       "      <td>0</td>\n",
       "      <td>0</td>\n",
       "      <td>0</td>\n",
       "      <td>0</td>\n",
       "      <td>0</td>\n",
       "      <td>0</td>\n",
       "      <td>0</td>\n",
       "      <td>1</td>\n",
       "      <td>0</td>\n",
       "    </tr>\n",
       "    <tr>\n",
       "      <th>NV</th>\n",
       "      <td>0</td>\n",
       "      <td>0</td>\n",
       "      <td>1</td>\n",
       "      <td>0</td>\n",
       "      <td>1</td>\n",
       "      <td>0</td>\n",
       "      <td>0</td>\n",
       "      <td>0</td>\n",
       "      <td>0</td>\n",
       "      <td>1</td>\n",
       "      <td>0</td>\n",
       "      <td>0</td>\n",
       "    </tr>\n",
       "    <tr>\n",
       "      <th>NY</th>\n",
       "      <td>2</td>\n",
       "      <td>5</td>\n",
       "      <td>5</td>\n",
       "      <td>1</td>\n",
       "      <td>5</td>\n",
       "      <td>6</td>\n",
       "      <td>7</td>\n",
       "      <td>11</td>\n",
       "      <td>0</td>\n",
       "      <td>8</td>\n",
       "      <td>2</td>\n",
       "      <td>4</td>\n",
       "    </tr>\n",
       "    <tr>\n",
       "      <th>OH</th>\n",
       "      <td>3</td>\n",
       "      <td>3</td>\n",
       "      <td>1</td>\n",
       "      <td>3</td>\n",
       "      <td>3</td>\n",
       "      <td>4</td>\n",
       "      <td>6</td>\n",
       "      <td>3</td>\n",
       "      <td>3</td>\n",
       "      <td>1</td>\n",
       "      <td>0</td>\n",
       "      <td>2</td>\n",
       "    </tr>\n",
       "    <tr>\n",
       "      <th>OK</th>\n",
       "      <td>3</td>\n",
       "      <td>1</td>\n",
       "      <td>0</td>\n",
       "      <td>0</td>\n",
       "      <td>3</td>\n",
       "      <td>1</td>\n",
       "      <td>2</td>\n",
       "      <td>4</td>\n",
       "      <td>0</td>\n",
       "      <td>0</td>\n",
       "      <td>1</td>\n",
       "      <td>3</td>\n",
       "    </tr>\n",
       "    <tr>\n",
       "      <th>OR</th>\n",
       "      <td>2</td>\n",
       "      <td>2</td>\n",
       "      <td>1</td>\n",
       "      <td>0</td>\n",
       "      <td>1</td>\n",
       "      <td>0</td>\n",
       "      <td>0</td>\n",
       "      <td>3</td>\n",
       "      <td>0</td>\n",
       "      <td>0</td>\n",
       "      <td>0</td>\n",
       "      <td>3</td>\n",
       "    </tr>\n",
       "    <tr>\n",
       "      <th>PA</th>\n",
       "      <td>3</td>\n",
       "      <td>8</td>\n",
       "      <td>2</td>\n",
       "      <td>1</td>\n",
       "      <td>2</td>\n",
       "      <td>5</td>\n",
       "      <td>9</td>\n",
       "      <td>4</td>\n",
       "      <td>6</td>\n",
       "      <td>8</td>\n",
       "      <td>0</td>\n",
       "      <td>3</td>\n",
       "    </tr>\n",
       "    <tr>\n",
       "      <th>SC</th>\n",
       "      <td>5</td>\n",
       "      <td>1</td>\n",
       "      <td>0</td>\n",
       "      <td>0</td>\n",
       "      <td>0</td>\n",
       "      <td>1</td>\n",
       "      <td>0</td>\n",
       "      <td>1</td>\n",
       "      <td>0</td>\n",
       "      <td>0</td>\n",
       "      <td>0</td>\n",
       "      <td>0</td>\n",
       "    </tr>\n",
       "    <tr>\n",
       "      <th>SD</th>\n",
       "      <td>0</td>\n",
       "      <td>0</td>\n",
       "      <td>0</td>\n",
       "      <td>0</td>\n",
       "      <td>0</td>\n",
       "      <td>0</td>\n",
       "      <td>0</td>\n",
       "      <td>2</td>\n",
       "      <td>0</td>\n",
       "      <td>0</td>\n",
       "      <td>0</td>\n",
       "      <td>0</td>\n",
       "    </tr>\n",
       "    <tr>\n",
       "      <th>TN</th>\n",
       "      <td>5</td>\n",
       "      <td>2</td>\n",
       "      <td>2</td>\n",
       "      <td>7</td>\n",
       "      <td>0</td>\n",
       "      <td>9</td>\n",
       "      <td>3</td>\n",
       "      <td>1</td>\n",
       "      <td>0</td>\n",
       "      <td>0</td>\n",
       "      <td>0</td>\n",
       "      <td>0</td>\n",
       "    </tr>\n",
       "    <tr>\n",
       "      <th>TX</th>\n",
       "      <td>5</td>\n",
       "      <td>10</td>\n",
       "      <td>9</td>\n",
       "      <td>16</td>\n",
       "      <td>11</td>\n",
       "      <td>13</td>\n",
       "      <td>10</td>\n",
       "      <td>9</td>\n",
       "      <td>10</td>\n",
       "      <td>4</td>\n",
       "      <td>3</td>\n",
       "      <td>6</td>\n",
       "    </tr>\n",
       "    <tr>\n",
       "      <th>UT</th>\n",
       "      <td>2</td>\n",
       "      <td>2</td>\n",
       "      <td>2</td>\n",
       "      <td>1</td>\n",
       "      <td>3</td>\n",
       "      <td>0</td>\n",
       "      <td>3</td>\n",
       "      <td>1</td>\n",
       "      <td>0</td>\n",
       "      <td>0</td>\n",
       "      <td>3</td>\n",
       "      <td>3</td>\n",
       "    </tr>\n",
       "    <tr>\n",
       "      <th>VA</th>\n",
       "      <td>2</td>\n",
       "      <td>3</td>\n",
       "      <td>3</td>\n",
       "      <td>0</td>\n",
       "      <td>2</td>\n",
       "      <td>6</td>\n",
       "      <td>9</td>\n",
       "      <td>3</td>\n",
       "      <td>2</td>\n",
       "      <td>1</td>\n",
       "      <td>1</td>\n",
       "      <td>3</td>\n",
       "    </tr>\n",
       "    <tr>\n",
       "      <th>VT</th>\n",
       "      <td>0</td>\n",
       "      <td>1</td>\n",
       "      <td>1</td>\n",
       "      <td>0</td>\n",
       "      <td>0</td>\n",
       "      <td>1</td>\n",
       "      <td>0</td>\n",
       "      <td>0</td>\n",
       "      <td>0</td>\n",
       "      <td>0</td>\n",
       "      <td>0</td>\n",
       "      <td>0</td>\n",
       "    </tr>\n",
       "    <tr>\n",
       "      <th>WA</th>\n",
       "      <td>8</td>\n",
       "      <td>5</td>\n",
       "      <td>5</td>\n",
       "      <td>6</td>\n",
       "      <td>5</td>\n",
       "      <td>3</td>\n",
       "      <td>7</td>\n",
       "      <td>8</td>\n",
       "      <td>3</td>\n",
       "      <td>2</td>\n",
       "      <td>6</td>\n",
       "      <td>12</td>\n",
       "    </tr>\n",
       "    <tr>\n",
       "      <th>WI</th>\n",
       "      <td>5</td>\n",
       "      <td>0</td>\n",
       "      <td>1</td>\n",
       "      <td>1</td>\n",
       "      <td>0</td>\n",
       "      <td>2</td>\n",
       "      <td>1</td>\n",
       "      <td>2</td>\n",
       "      <td>1</td>\n",
       "      <td>1</td>\n",
       "      <td>0</td>\n",
       "      <td>0</td>\n",
       "    </tr>\n",
       "    <tr>\n",
       "      <th>WV</th>\n",
       "      <td>0</td>\n",
       "      <td>0</td>\n",
       "      <td>1</td>\n",
       "      <td>0</td>\n",
       "      <td>0</td>\n",
       "      <td>2</td>\n",
       "      <td>0</td>\n",
       "      <td>0</td>\n",
       "      <td>0</td>\n",
       "      <td>1</td>\n",
       "      <td>0</td>\n",
       "      <td>0</td>\n",
       "    </tr>\n",
       "    <tr>\n",
       "      <th>WY</th>\n",
       "      <td>0</td>\n",
       "      <td>0</td>\n",
       "      <td>0</td>\n",
       "      <td>0</td>\n",
       "      <td>0</td>\n",
       "      <td>1</td>\n",
       "      <td>0</td>\n",
       "      <td>1</td>\n",
       "      <td>0</td>\n",
       "      <td>0</td>\n",
       "      <td>1</td>\n",
       "      <td>0</td>\n",
       "    </tr>\n",
       "  </tbody>\n",
       "</table>\n",
       "</div>"
      ],
      "text/plain": [
       "MONTH        1.0   2.0   3.0   4.0   5.0   6.0   7.0   8.0   9.0   10.0  11.0  \\\n",
       "POSTAL.CODE                                                                     \n",
       "AL              0     0     0     0     0     1     1     1     0     0     0   \n",
       "AR              2     2     0     1     1     2     2     2     2     1     0   \n",
       "AZ              3     4     1     1     1     1     4     1     0     1     0   \n",
       "CA             11    18    13     8    16    10    17     8     7    15     8   \n",
       "CO              0     2     0     0     0     1     2     0     0     3     0   \n",
       "CT              1     0     2     1     2     1     1     1     1     1     2   \n",
       "DC              2     2     0     0     0     2     0     3     1     0     0   \n",
       "DE              0     0     1     2     3     3     1     2     0     0     3   \n",
       "FL              1     4     2     1     0     0     0     7     6     3     0   \n",
       "GA              1     3     0     1     2     3     0     0     2     0     2   \n",
       "HI              0     0     0     0     1     0     0     0     0     2     0   \n",
       "IA              1     2     0     0     0     0     0     0     0     0     0   \n",
       "ID              0     0     0     0     0     1     2     0     0     0     0   \n",
       "IL              1     1     1     1     3    12    11     8     0     3     2   \n",
       "IN              4     0     0     2     5     7     6     3     0     1     4   \n",
       "KS              1     0     1     1     0     2     0     0     0     0     0   \n",
       "KY              3     2     0     0     1     0     0     1     1     0     0   \n",
       "LA              1     0     0     2     3     5     5    10     5     2     0   \n",
       "MA              1     1     2     1     1     0     0     2     0     2     0   \n",
       "MD              5     6     2     2     0     9     5     4     2     2     2   \n",
       "ME              1     2     1     2     0     0     2     0     0     1     1   \n",
       "MI              3     3     5     8     6    13    16     9     7     5     7   \n",
       "MN              0     0     0     0     1     5     3     0     1     1     1   \n",
       "MO              3     1     0     1     3     0     0     2     0     0     0   \n",
       "MS              0     0     0     0     0     1     0     0     0     0     0   \n",
       "MT              0     0     1     0     0     2     0     0     0     0     0   \n",
       "NC              2     5     3     2     2     4     2     3     6     0     0   \n",
       "NE              0     0     0     0     0     2     0     1     0     0     0   \n",
       "NH              0     0     2     1     1     0     0     0     0     1     0   \n",
       "NJ              1     2     2     0     1     7     2     3     1     4     0   \n",
       "NM              0     2     1     0     0     0     0     0     0     0     1   \n",
       "NV              0     0     1     0     1     0     0     0     0     1     0   \n",
       "NY              2     5     5     1     5     6     7    11     0     8     2   \n",
       "OH              3     3     1     3     3     4     6     3     3     1     0   \n",
       "OK              3     1     0     0     3     1     2     4     0     0     1   \n",
       "OR              2     2     1     0     1     0     0     3     0     0     0   \n",
       "PA              3     8     2     1     2     5     9     4     6     8     0   \n",
       "SC              5     1     0     0     0     1     0     1     0     0     0   \n",
       "SD              0     0     0     0     0     0     0     2     0     0     0   \n",
       "TN              5     2     2     7     0     9     3     1     0     0     0   \n",
       "TX              5    10     9    16    11    13    10     9    10     4     3   \n",
       "UT              2     2     2     1     3     0     3     1     0     0     3   \n",
       "VA              2     3     3     0     2     6     9     3     2     1     1   \n",
       "VT              0     1     1     0     0     1     0     0     0     0     0   \n",
       "WA              8     5     5     6     5     3     7     8     3     2     6   \n",
       "WI              5     0     1     1     0     2     1     2     1     1     0   \n",
       "WV              0     0     1     0     0     2     0     0     0     1     0   \n",
       "WY              0     0     0     0     0     1     0     1     0     0     1   \n",
       "\n",
       "MONTH        12.0  \n",
       "POSTAL.CODE        \n",
       "AL              1  \n",
       "AR              0  \n",
       "AZ              1  \n",
       "CA             17  \n",
       "CO              0  \n",
       "CT              0  \n",
       "DC              0  \n",
       "DE              0  \n",
       "FL              0  \n",
       "GA              1  \n",
       "HI              1  \n",
       "IA              0  \n",
       "ID              0  \n",
       "IL              1  \n",
       "IN              1  \n",
       "KS              1  \n",
       "KY              0  \n",
       "LA              0  \n",
       "MA              1  \n",
       "MD              1  \n",
       "ME              2  \n",
       "MI              9  \n",
       "MN              0  \n",
       "MO              2  \n",
       "MS              0  \n",
       "MT              0  \n",
       "NC              0  \n",
       "NE              1  \n",
       "NH              0  \n",
       "NJ              1  \n",
       "NM              0  \n",
       "NV              0  \n",
       "NY              4  \n",
       "OH              2  \n",
       "OK              3  \n",
       "OR              3  \n",
       "PA              3  \n",
       "SC              0  \n",
       "SD              0  \n",
       "TN              0  \n",
       "TX              6  \n",
       "UT              3  \n",
       "VA              3  \n",
       "VT              0  \n",
       "WA             12  \n",
       "WI              0  \n",
       "WV              0  \n",
       "WY              0  "
      ]
     },
     "execution_count": 67,
     "metadata": {},
     "output_type": "execute_result"
    }
   ],
   "source": [
    "piv_table = major.pivot_table(\n",
    "    values = \"YEAR\",\n",
    "    index = \"POSTAL.CODE\",\n",
    "    columns = \"MONTH\",\n",
    "    aggfunc=\"count\",\n",
    "    fill_value = 0\n",
    "    )\n",
    "piv_table"
   ]
  },
  {
   "cell_type": "markdown",
   "metadata": {},
   "source": [
    "This pivot table counts the number of major power outages by postal code and month.\n"
   ]
  },
  {
   "cell_type": "code",
   "execution_count": 129,
   "metadata": {},
   "outputs": [
    {
     "data": {
      "image/png": "[encoded data removed]",
      "text/plain": [
       "<Figure size 432x288 with 1 Axes>"
      ]
     },
     "metadata": {
      "image/png": {
       "height": 279,
       "width": 435
      },
      "needs_background": "light"
     },
     "output_type": "display_data"
    }
   ],
   "source": [
    "piv_table.plot(kind='bar', fontsize=7, title=\"Major Outages by Month for Postal Code\")\n",
    "plt.legend(bbox_to_anchor=(1.0, 1.0))\n",
    "plt.show()"
   ]
  },
  {
   "cell_type": "markdown",
   "metadata": {},
   "source": [
    "The plot shows 12 bars for each state. The bars show the number of power outages for each month. We are able to see which month each state tend to have their major power outages in.\n"
   ]
  },
  {
   "cell_type": "code",
   "execution_count": 130,
   "metadata": {},
   "outputs": [
    {
     "data": {
      "image/png": "[encoded data removed]",
      "text/plain": [
       "<Figure size 432x288 with 1 Axes>"
      ]
     },
     "metadata": {
      "image/png": {
       "height": 277,
       "width": 401
      },
      "needs_background": "light"
     },
     "output_type": "display_data"
    }
   ],
   "source": [
    "major.plot.scatter('MONTH', 'OUTAGE.DURATION', title=\"Month versus Outage Duration\")\n",
    "plt.show()"
   ]
  },
  {
   "cell_type": "markdown",
   "metadata": {},
   "source": [
    "We are looking to see if there is an association between the month and duration of a major power outage. We would expect a major power outage to last longer in certain months over others because of different weather that may affect the work and electrical equipment. There does not seem to have a month where the outage durations tend to be a lot longer than the other months."
   ]
  },
  {
   "cell_type": "markdown",
   "metadata": {},
   "source": [
    "### Hypothesis Test"
   ]
  },
  {
   "cell_type": "markdown",
   "metadata": {},
   "source": [
    "Null: The months June, July, August account for .35 of the major outages\n",
    "\n",
    "Alternative: The months June, July, August account for less than .35 of the major outages\n",
    "\n",
    "Test Statistic: Mean\n",
    "\n",
    "Significance level: .05\n",
    "\n",
    "P-value: .4742\n",
    "\n",
    "Results: Since p-value >.05, we favor the null hypothesis that June, July, August account for .36 of the major outages\n",
    "\n",
    "Justification: I chose to use mean as the test statistic because it allows us to find the proportion of the sample that happens in June, July, August. I chose a significance level of .05 because if 5/100 times we draw the wrong conclusion, then we should look at the results again."
   ]
  },
  {
   "cell_type": "code",
   "execution_count": 131,
   "metadata": {},
   "outputs": [
    {
     "data": {
      "text/plain": [
       "0.3659839715048976"
      ]
     },
     "execution_count": 131,
     "metadata": {},
     "output_type": "execute_result"
    }
   ],
   "source": [
    "observed_prop = len(major[major['MONTH'].isin([6,7,8])])/len(major)\n",
    "observed_prop"
   ]
  },
  {
   "cell_type": "code",
   "execution_count": 132,
   "metadata": {},
   "outputs": [],
   "source": [
    "N = 5000\n",
    "averages = []\n",
    "data = major['MONTH'].dropna() #Drops all NaN values to sample from it\n",
    "for i in np.arange(N):\n",
    "    random_sample = (data.sample(len(data), replace=True)).isin([6,7,8])\n",
    "    #Getting the sample and the proportion that are June, July, August\n",
    "    averages.append(np.mean(random_sample))\n",
    "averages = np.array(averages)"
   ]
  },
  {
   "cell_type": "code",
   "execution_count": 133,
   "metadata": {},
   "outputs": [
    {
     "data": {
      "text/plain": [
       "0.4742"
      ]
     },
     "execution_count": 133,
     "metadata": {},
     "output_type": "execute_result"
    }
   ],
   "source": [
    "p_value = np.mean(averages<=observed_prop)\n",
    "p_value"
   ]
  },
  {
   "cell_type": "markdown",
   "metadata": {},
   "source": [
    "## Supervised Learning: Predict if Customers will be Affected by Outages"
   ]
  },
  {
   "cell_type": "markdown",
   "metadata": {},
   "source": [
    "### Baseline Model"
   ]
  },
  {
   "cell_type": "code",
   "execution_count": 183,
   "metadata": {},
   "outputs": [],
   "source": [
    "cols_features = ['MONTH', 'POSTAL.CODE', 'CLIMATE.CATEGORY', 'ANOMALY.LEVEL',\n",
    "       'CUSTOMERS.AFFECTED', 'TOTAL.PRICE']\n",
    "ml_features = df_outages[cols_features]"
   ]
  },
  {
   "cell_type": "code",
   "execution_count": 184,
   "metadata": {},
   "outputs": [
    {
     "data": {
      "text/plain": [
       "MONTH                  9\n",
       "POSTAL.CODE            0\n",
       "CLIMATE.CATEGORY       9\n",
       "ANOMALY.LEVEL          9\n",
       "CUSTOMERS.AFFECTED     0\n",
       "TOTAL.PRICE           22\n",
       "dtype: int64"
      ]
     },
     "execution_count": 184,
     "metadata": {},
     "output_type": "execute_result"
    }
   ],
   "source": [
    "ml_features.isna().sum()"
   ]
  },
  {
   "cell_type": "code",
   "execution_count": 185,
   "metadata": {},
   "outputs": [],
   "source": [
    "outages_filled = ml_features.dropna()"
   ]
  },
  {
   "cell_type": "markdown",
   "metadata": {},
   "source": [
    "I chose to drop the null values because there were so little of them that would not affect the result by much"
   ]
  },
  {
   "cell_type": "markdown",
   "metadata": {},
   "source": [
    "### Splitting the Dataset"
   ]
  },
  {
   "cell_type": "code",
   "execution_count": 197,
   "metadata": {},
   "outputs": [],
   "source": [
    "#splits the dataset into the test and training\n",
    "from sklearn.model_selection import train_test_split\n",
    "\n",
    "X = outages_filled.drop('CUSTOMERS.AFFECTED', axis=1)\n",
    "y = (outages_filled['CUSTOMERS.AFFECTED']!=0)\n",
    "X_train, X_test, y_train, y_test = train_test_split(X, y, test_size=0.25)"
   ]
  },
  {
   "cell_type": "markdown",
   "metadata": {},
   "source": [
    "## Predict if Customers will be Afffected by Outages"
   ]
  },
  {
   "cell_type": "markdown",
   "metadata": {},
   "source": [
    "### Baseline Model"
   ]
  },
  {
   "cell_type": "code",
   "execution_count": 198,
   "metadata": {},
   "outputs": [],
   "source": [
    "from sklearn.pipeline import Pipeline\n",
    "from sklearn.compose import ColumnTransformer\n",
    "import sklearn.preprocessing as pp\n",
    "from sklearn.tree import DecisionTreeClassifier\n",
    "from sklearn.model_selection import GridSearchCV\n",
    "from sklearn import metrics"
   ]
  },
  {
   "cell_type": "code",
   "execution_count": 199,
   "metadata": {},
   "outputs": [],
   "source": [
    "categorical = ['POSTAL.CODE', 'CLIMATE.CATEGORY']\n",
    "#Doing a One Hot Econding for all the nominval variables\n",
    "prepoc = ColumnTransformer(\n",
    "    transformers =[\n",
    "        ('cat', pp.OneHotEncoder(handle_unknown='ignore'), categorical)\n",
    "    ],\n",
    "    remainder = 'passthrough')\n",
    "#Pipeline that does the transformations on the columns we made and the Decision Tree Classifier\n",
    "pl = Pipeline(steps=[('preprocessor', prepoc),\n",
    "                   ('classifier', DecisionTreeClassifier())])"
   ]
  },
  {
   "cell_type": "code",
   "execution_count": 200,
   "metadata": {},
   "outputs": [
    {
     "data": {
      "text/plain": [
       "Pipeline(steps=[('preprocessor',\n",
       "                 ColumnTransformer(remainder='passthrough',\n",
       "                                   transformers=[('cat',\n",
       "                                                  OneHotEncoder(handle_unknown='ignore'),\n",
       "                                                  ['POSTAL.CODE',\n",
       "                                                   'CLIMATE.CATEGORY'])])),\n",
       "                ('classifier', DecisionTreeClassifier())])"
      ]
     },
     "execution_count": 200,
     "metadata": {},
     "output_type": "execute_result"
    }
   ],
   "source": [
    "#Fitting the model\n",
    "pl.fit(X_train, y_train)"
   ]
  },
  {
   "cell_type": "code",
   "execution_count": 201,
   "metadata": {},
   "outputs": [
    {
     "data": {
      "text/plain": [
       "0.7724867724867724"
      ]
     },
     "execution_count": 201,
     "metadata": {},
     "output_type": "execute_result"
    }
   ],
   "source": [
    "#Getting the Accuracy Score\n",
    "pl.score(X_test, y_test)"
   ]
  },
  {
   "cell_type": "markdown",
   "metadata": {},
   "source": [
    "### Final Model"
   ]
  },
  {
   "cell_type": "code",
   "execution_count": 204,
   "metadata": {},
   "outputs": [],
   "source": [
    "categorical = ['POSTAL.CODE', 'CLIMATE.CATEGORY']\n",
    "prepoc_ = ColumnTransformer(\n",
    "    transformers =[\n",
    "        #One hot encoding nominal variables\n",
    "        ('cat_', pp.OneHotEncoder(handle_unknown='ignore'), categorical),\n",
    "        #Standardizing the ANOMALY.LEVEL column\n",
    "        ('std_scaling_', pp.StandardScaler(), ['ANOMALY.LEVEL']),\n",
    "        #Binning the TOTAL.PRICE column\n",
    "        ('bin', pp.KBinsDiscretizer(n_bins=6), ['TOTAL.PRICE'])\n",
    "    ],\n",
    "    remainder = 'passthrough')\n",
    "#Pipeline that does the transformed column and the Decision Tree Classifier\n",
    "pl_ = Pipeline(steps=[('preprocessor_', prepoc_),\n",
    "                   ('classifier', DecisionTreeClassifier())])"
   ]
  },
  {
   "cell_type": "code",
   "execution_count": 205,
   "metadata": {},
   "outputs": [
    {
     "data": {
      "text/plain": [
       "Pipeline(steps=[('preprocessor_',\n",
       "                 ColumnTransformer(remainder='passthrough',\n",
       "                                   transformers=[('cat_',\n",
       "                                                  OneHotEncoder(handle_unknown='ignore'),\n",
       "                                                  ['POSTAL.CODE',\n",
       "                                                   'CLIMATE.CATEGORY']),\n",
       "                                                 ('std_scaling_',\n",
       "                                                  StandardScaler(),\n",
       "                                                  ['ANOMALY.LEVEL']),\n",
       "                                                 ('bin',\n",
       "                                                  KBinsDiscretizer(n_bins=6),\n",
       "                                                  ['TOTAL.PRICE'])])),\n",
       "                ('classifier', DecisionTreeClassifier())])"
      ]
     },
     "execution_count": 205,
     "metadata": {},
     "output_type": "execute_result"
    }
   ],
   "source": [
    "#Fitting the model\n",
    "pl_.fit(X_train, y_train)"
   ]
  },
  {
   "cell_type": "code",
   "execution_count": 206,
   "metadata": {},
   "outputs": [
    {
     "data": {
      "text/plain": [
       "0.7804232804232805"
      ]
     },
     "execution_count": 206,
     "metadata": {},
     "output_type": "execute_result"
    }
   ],
   "source": [
    "#Getting the Accuracy Score\n",
    "pl_.score(X_test, y_test)"
   ]
  },
  {
   "cell_type": "code",
   "execution_count": 207,
   "metadata": {},
   "outputs": [
    {
     "data": {
      "text/plain": [
       "36"
      ]
     },
     "execution_count": 207,
     "metadata": {},
     "output_type": "execute_result"
    }
   ],
   "source": [
    "#The Max Depth of the Decision Tree Classifier\n",
    "pl_.named_steps['classifier'].tree_.max_depth"
   ]
  },
  {
   "cell_type": "code",
   "execution_count": 208,
   "metadata": {},
   "outputs": [
    {
     "data": {
      "text/plain": [
       "561"
      ]
     },
     "execution_count": 208,
     "metadata": {},
     "output_type": "execute_result"
    }
   ],
   "source": [
    "#The number of node of the Decision Tree Classifier\n",
    "pl_.named_steps['classifier'].tree_.node_count"
   ]
  },
  {
   "cell_type": "code",
   "execution_count": 209,
   "metadata": {},
   "outputs": [],
   "source": [
    "#The parameters that we are going to test in the Grid Search\n",
    "parameters = {\n",
    "    'classifier__max_depth': [2,3,4,5,7,10,13,None], \n",
    "    'classifier__min_samples_split':[2,3,5,7,10,15,20],\n",
    "    'classifier__min_samples_leaf':[2,3,5,7,10,15,20]\n",
    "}"
   ]
  },
  {
   "cell_type": "code",
   "execution_count": 210,
   "metadata": {},
   "outputs": [],
   "source": [
    "#Doing the Grid Search\n",
    "clf = GridSearchCV(pl_, param_grid=parameters, cv = 3)"
   ]
  },
  {
   "cell_type": "code",
   "execution_count": 211,
   "metadata": {},
   "outputs": [
    {
     "data": {
      "text/plain": [
       "GridSearchCV(cv=3,\n",
       "             estimator=Pipeline(steps=[('preprocessor_',\n",
       "                                        ColumnTransformer(remainder='passthrough',\n",
       "                                                          transformers=[('cat_',\n",
       "                                                                         OneHotEncoder(handle_unknown='ignore'),\n",
       "                                                                         ['POSTAL.CODE',\n",
       "                                                                          'CLIMATE.CATEGORY']),\n",
       "                                                                        ('std_scaling_',\n",
       "                                                                         StandardScaler(),\n",
       "                                                                         ['ANOMALY.LEVEL']),\n",
       "                                                                        ('bin',\n",
       "                                                                         KBinsDiscretizer(n_bins=6),\n",
       "                                                                         ['TOTAL.PRICE'])])),\n",
       "                                       ('classifier',\n",
       "                                        DecisionTreeClassifier())]),\n",
       "             param_grid={'classifier__max_depth': [2, 3, 4, 5, 7, 10, 13, None],\n",
       "                         'classifier__min_samples_leaf': [2, 3, 5, 7, 10, 15,\n",
       "                                                          20],\n",
       "                         'classifier__min_samples_split': [2, 3, 5, 7, 10, 15,\n",
       "                                                           20]})"
      ]
     },
     "execution_count": 211,
     "metadata": {},
     "output_type": "execute_result"
    }
   ],
   "source": [
    "#Fitting the Grid Search with our training data\n",
    "clf.fit(X_train, y_train)"
   ]
  },
  {
   "cell_type": "code",
   "execution_count": 212,
   "metadata": {},
   "outputs": [
    {
     "data": {
      "text/plain": [
       "{'classifier__max_depth': 4,\n",
       " 'classifier__min_samples_leaf': 2,\n",
       " 'classifier__min_samples_split': 20}"
      ]
     },
     "execution_count": 212,
     "metadata": {},
     "output_type": "execute_result"
    }
   ],
   "source": [
    "#The best parameters for our model\n",
    "clf.best_params_"
   ]
  },
  {
   "cell_type": "code",
   "execution_count": 213,
   "metadata": {},
   "outputs": [],
   "source": [
    "#Pipeline that does the transformed column and the Decision Tree Classifier with optimized parameters\n",
    "pl_optimized = Pipeline(steps=[('preprocessor_', prepoc_),\n",
    "                   ('classifier', DecisionTreeClassifier(max_depth=4, \n",
    "                                                         min_samples_split=2, min_samples_leaf=20))])"
   ]
  },
  {
   "cell_type": "code",
   "execution_count": 214,
   "metadata": {},
   "outputs": [
    {
     "data": {
      "text/plain": [
       "Pipeline(steps=[('preprocessor_',\n",
       "                 ColumnTransformer(remainder='passthrough',\n",
       "                                   transformers=[('cat_',\n",
       "                                                  OneHotEncoder(handle_unknown='ignore'),\n",
       "                                                  ['POSTAL.CODE',\n",
       "                                                   'CLIMATE.CATEGORY']),\n",
       "                                                 ('std_scaling_',\n",
       "                                                  StandardScaler(),\n",
       "                                                  ['ANOMALY.LEVEL']),\n",
       "                                                 ('bin',\n",
       "                                                  KBinsDiscretizer(n_bins=6),\n",
       "                                                  ['TOTAL.PRICE'])])),\n",
       "                ('classifier',\n",
       "                 DecisionTreeClassifier(max_depth=4, min_samples_leaf=20))])"
      ]
     },
     "execution_count": 214,
     "metadata": {},
     "output_type": "execute_result"
    }
   ],
   "source": [
    "#Fitting the model\n",
    "pl_optimized.fit(X_train, y_train)"
   ]
  },
  {
   "cell_type": "code",
   "execution_count": 215,
   "metadata": {},
   "outputs": [
    {
     "data": {
      "text/plain": [
       "0.8095238095238095"
      ]
     },
     "execution_count": 215,
     "metadata": {},
     "output_type": "execute_result"
    }
   ],
   "source": [
    "pl_optimized.score(X_test, y_test)"
   ]
  },
  {
   "cell_type": "code",
   "execution_count": null,
   "metadata": {},
   "outputs": [],
   "source": []
  }
 ],
 "metadata": {
  "kernelspec": {
   "display_name": "Python 3",
   "language": "python",
   "name": "python3"
  },
  "language_info": {
   "codemirror_mode": {
    "name": "ipython",
    "version": 3
   },
   "file_extension": ".py",
   "mimetype": "text/x-python",
   "name": "python",
   "nbconvert_exporter": "python",
   "pygments_lexer": "ipython3",
   "version": "3.8.5"
  }
 },
 "nbformat": 4,
 "nbformat_minor": 4
}
